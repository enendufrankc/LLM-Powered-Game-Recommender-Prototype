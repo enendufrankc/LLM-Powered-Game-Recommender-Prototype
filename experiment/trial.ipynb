{
 "cells": [
  {
   "cell_type": "markdown",
   "id": "62996d3f",
   "metadata": {},
   "source": [
    "### Generating Synthetic Data"
   ]
  },
  {
   "cell_type": "code",
   "execution_count": null,
   "id": "03206190",
   "metadata": {},
   "outputs": [],
   "source": [
    "import json\n",
    "import os\n",
    "import random\n",
    "import time\n",
    "from typing import List, Dict, Union\n",
    "from openai import OpenAI\n",
    "from pydantic import BaseModel, ValidationError\n",
    "from typing import Literal"
   ]
  },
  {
   "cell_type": "code",
   "execution_count": null,
   "id": "180817f2",
   "metadata": {},
   "outputs": [],
   "source": [
    "class Game(BaseModel):\n",
    "    id: str\n",
    "    name: str\n",
    "    theme: str\n",
    "    volatility: Literal[\"Low\", \"Medium\", \"High\"]\n",
    "    rtp: float\n",
    "    reels: int\n",
    "    paylines: Union[int, Literal[\"cluster\"]]\n",
    "    max_win_x: int\n",
    "    special_features: List[str]\n",
    "    art_style: str\n",
    "    provider_style: str\n",
    "    target_audience: str\n",
    "    description: str\n",
    "    tags: List[str]"
   ]
  },
  {
   "cell_type": "code",
   "execution_count": null,
   "id": "9e94b68f",
   "metadata": {},
   "outputs": [],
   "source": []
  },
  {
   "cell_type": "code",
   "execution_count": null,
   "id": "889013cc",
   "metadata": {},
   "outputs": [],
   "source": []
  },
  {
   "cell_type": "code",
   "execution_count": null,
   "id": "33ea61e0",
   "metadata": {},
   "outputs": [],
   "source": []
  },
  {
   "cell_type": "code",
   "execution_count": null,
   "id": "81cc5075",
   "metadata": {},
   "outputs": [],
   "source": []
  },
  {
   "cell_type": "code",
   "execution_count": null,
   "id": "a224f1fb",
   "metadata": {},
   "outputs": [],
   "source": []
  }
 ],
 "metadata": {
  "kernelspec": {
   "display_name": ".venv",
   "language": "python",
   "name": "python3"
  },
  "language_info": {
   "name": "python",
   "version": "3.13.2"
  }
 },
 "nbformat": 4,
 "nbformat_minor": 5
}
